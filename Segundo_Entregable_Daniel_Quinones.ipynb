{
  "nbformat": 4,
  "nbformat_minor": 0,
  "metadata": {
    "colab": {
      "name": "Segundo Entregable_Daniel_Quinones.ipynb",
      "provenance": [],
      "collapsed_sections": [],
      "authorship_tag": "ABX9TyPAV/5izPph3Zesx0n3JGCn",
      "include_colab_link": true
    },
    "kernelspec": {
      "name": "python3",
      "display_name": "Python 3"
    },
    "language_info": {
      "name": "python"
    }
  },
  "cells": [
    {
      "cell_type": "markdown",
      "metadata": {
        "id": "view-in-github",
        "colab_type": "text"
      },
      "source": [
        "<a href=\"https://colab.research.google.com/github/danquio194/github-slideshow/blob/master/Segundo_Entregable_Daniel_Quinones.ipynb\" target=\"_parent\"><img src=\"https://colab.research.google.com/assets/colab-badge.svg\" alt=\"Open In Colab\"/></a>"
      ]
    },
    {
      "cell_type": "markdown",
      "metadata": {
        "id": "YMlYhN5FNaQL"
      },
      "source": [
        "**Second Problems' Set -  Machine Learning Introduction**\n",
        "\n",
        "*by Daniel Felipe Quiñones Ordoñez*"
      ]
    },
    {
      "cell_type": "code",
      "metadata": {
        "id": "pusjk0nDswfm"
      },
      "source": [
        "#Libraries for this notebook\n",
        "\n",
        "import matplotlib.pyplot as plt\n",
        "import numpy as np\n",
        "import math\n",
        "import random \n"
      ],
      "execution_count": 2,
      "outputs": []
    },
    {
      "cell_type": "markdown",
      "metadata": {
        "id": "eH920rmpNzAy"
      },
      "source": [
        "**Exercise 1.12**\n",
        "A friend comes to you with a learning problem. She says the target function $f$ is completly unknown, but she has $4000$ data points. She is willing to pay you to solve her problem and produce for her a $g$ which approximates $f$. What is the best that you can promise her among the following:\n",
        "\n",
        "\n",
        "\n",
        "1.   After learning you will provide her with a $g$ that you will guarantee approximates $f$ well out of sample.\n",
        "2.   After learning you will provide her with a $g$, and with high probability the $g$ which you produce will approximate $f$ well out of sample.\n",
        "3.   One of two things will happen:\n",
        "\n",
        "*   (i) You will produce a hypothesis $g$.\n",
        "*   (ii) You will declare that you failed\n",
        "\n",
        "If you do return a hypothesis $g$, then with high probability the g which you produce will approximate $f$ well out of sample.\n",
        "\n",
        "\n",
        "\n",
        "\n",
        "\n",
        "\n"
      ]
    },
    {
      "cell_type": "markdown",
      "metadata": {
        "id": "RBYPDZdSA-Z5"
      },
      "source": [
        "**Solution:**\n",
        "\n",
        "There is no guarantee that $g$ approximates $f$ well out of the sample. Even if we have a considerable huge amount of sample points. That could make us think in the (b) option, considering the probabilistic approach we accept for the feasability to learning out of the sample. However, still exists  the case that the learning not be succesful and the $E_{in}$ do not be close to zero neither close to $E_{out}$. Therefore the best answer we can give to our friend is the (c). Is more according to the reality: Though, as we seen in some of the exercises in this chapter, we always can give a $g$ hypothesis, there is no guarantee of succes in learning, and so we must have declare with shame our failed in the learning task. But, if we achieve in learn, with $4000$ sample points, and due to the Hoeffding inequality, the probability of $E_{in} \\approx E_{out}$ is less than a small number, being caotious in keep the $M$ number of hipothesys small as well. \n",
        "\n"
      ]
    },
    {
      "cell_type": "markdown",
      "metadata": {
        "id": "2XBxWF9CRTmX"
      },
      "source": [
        "**Problem 1.2**\n",
        "\n",
        "Consider the perceptron in two dimensions: $h(x) = sign(w^{T} x)$ where $w = [w_{0}, w_{1}, w_{2}]^{T}$ and $x = [1, x_{1},x_{2}]^{T}$. Tecnically $x$ has three coordinates, but we call this perceptron two-dimensional because the first coordinate is fixed at $1$. $ \\\\ $\n",
        "\n",
        "a). Show that the regions on the plane where $h(x) = +1$ and $h(x) = -1$ are separated by a line. If we express this line by the equation $x_{2} = ax_{1} + b$, what are the slope $a$ and the intercept $b$ in terms of $w_{0}, w_{1}, w_{2}$? $ \\\\ $\n",
        "\n",
        "b). Draw a picture for the cases $w = [1, 2, 3]^{T}$ and $w = -[1, 2, 3]^{T}$ \n",
        "\n",
        "**Solution:**\n",
        "\n",
        "a). An explicit formula for this perceptron is $w^{T}x = w_{0}x_{0} + w_{1}x_{1} + w_{2}x_{2} = w_{0} + w_{1}x_{1} + w_{2}x_{2}$\n",
        "\n",
        "For the region where $h(x) = +1$ we have that $w_{0} + w_{1}x_{1} + w_{2}x_{2} > 0$, and in the other hand, where $h(x) = -1$, $w_{0} + w_{1}x_{1} + w_{2}x_{2} < 0$. In this way, the line between those regions is the line $w_{0} + w_{1}x_{1} + w_{2}x_{2} = 0$. Rewriting the last equation \n",
        "\n",
        "$\n",
        "\\begin{equation}\n",
        "  x_{2} = \\frac{-w_{1}}{w_{2}}x_{1} - \\frac{w_{0}}{w_{2}}\n",
        "\\end{equation}\n",
        "$\n",
        "\n",
        "So, we can see that the scope $a = \\frac{-w_{1}}{w_{2}}$ and the intercept $b =- \\frac{w_{0}}{w_{2}}$\n",
        "\n",
        "b). For this part we plot the pictures in the following code box. As they are equivalent, their plots are the same."
      ]
    },
    {
      "cell_type": "code",
      "metadata": {
        "id": "NeMlvnqZsrjB",
        "colab": {
          "base_uri": "https://localhost:8080/",
          "height": 298
        },
        "outputId": "653e442c-e2b0-4582-ebc9-ee1f8672f7b9"
      },
      "source": [
        "x = np.arange(-5.0, 5.0, 0.1)\n",
        "line1 = -(-2/-3)*x - 1/3\n",
        "line2 = -(-2/-3)*x - (-1/-3)\n",
        "\n",
        "plt.figure(1)\n",
        "#plt.figure(1).suptitle('f(x)−cos(x), x_0 = 0.5')\n",
        "plt.subplot(121)\n",
        "plt.plot(x, line1, 'ro')\n",
        "plt.title('Line 1') \n",
        "\n",
        "plt.subplot(122)\n",
        "plt.plot(x, line1, 'bo')\n",
        "plt.title('Line 2')\n",
        "\n"
      ],
      "execution_count": null,
      "outputs": [
        {
          "output_type": "execute_result",
          "data": {
            "text/plain": [
              "Text(0.5, 1.0, 'Line 2')"
            ]
          },
          "metadata": {
            "tags": []
          },
          "execution_count": 3
        },
        {
          "output_type": "display_data",
          "data": {
            "image/png": "[encoded data removed]",
            "text/plain": [
              "<Figure size 432x288 with 2 Axes>"
            ]
          },
          "metadata": {
            "tags": [],
            "needs_background": "light"
          }
        }
      ]
    },
    {
      "cell_type": "markdown",
      "metadata": {
        "id": "eSSw_wJtT-jI"
      },
      "source": [
        "**Problem 1.4** In exercise 1.4, we use an artificial data set to study the perceptron learning algorithm. This problem leads you to explore the algorithm further with data sets od different sizes and dimensions:\n",
        "\n",
        "(a). Generate a linearly separate data set of size 20 as indicated in Exercise 1.4. Plot the examples $\\{ (x_{n}, y_{n}) \\}$ as well as the target function $f$ on a plane. Be sure to mark the examples from different classes differently and add labels to the axes of the plot.\n",
        "\n",
        "(b). Run the perceptron learning algorithm on the data set above. Report the number of updates that the algorithm takes before converging. Plot the examples $\\{ (x_{n}, y_{n}) \\}$, the target function $f$, and the final hypothesis $g$ in the same figure. Comment on whether $f$ is close to $g$.\n",
        "\n",
        "(c). Repeat everything in (b) with another randomly generated data set of size 20. Compare your results with (b).\n",
        "\n",
        "(d). Repeat everything in (b) with another randomly generated data set of size 100. Compare your results with (b).\n",
        "\n",
        "(e). Repeat everything in (b) with another randomly generated data set of size 1000. Compare your results with (b).\n",
        "\n",
        "(f). Modify the algorithm such that it takes $x_{n} \\in \\mathbb{R}^{10}$ instead of $\\mathbb{R}^{2}$. Randmoly generate a linearly separable data set of size $1000$ with ${x_{n}}\\in \\mathbb{R}^{10}$ and feed the data set to the algorithm. How many updates does the algorithm take to converge?\n",
        "\n",
        "(h). Summarize your conclusions with respect to accuracy andd running time as a function of $N$ and $d$."
      ]
    },
    {
      "cell_type": "markdown",
      "metadata": {
        "id": "Fdy0GjWKDSvw"
      },
      "source": [
        "**Solution:**"
      ]
    },
    {
      "cell_type": "code",
      "metadata": {
        "id": "0kOHQj1bRpHq"
      },
      "source": [
        "#Picking a random target function f\n",
        "x = np.arange(-5.0, 5.0, 0.1)\n",
        "m = random.uniform(-10, 10)\n",
        "b = random.uniform(-10, 10)\n",
        "\n",
        "def random_f(x, b):\n",
        "  return  m*x + b\n",
        "\n",
        "target_f = random_f(x, b)\n",
        "#Setting the random samples points\n",
        "\n",
        "def randomSet(n, domain):\n",
        "  x_n = []\n",
        "  y_n_red = []\n",
        "  y_n_green = []\n",
        "  for i in range(n):\n",
        "    point = random.uniform(-10, 10)\n",
        "    x_n.append(point)\n",
        "    if (point < b):\n",
        "      y_n_red.append(random.uniform(-10, 10)*0.5 + 1)\n",
        "    else:\n",
        "      y_n_green.append(random.uniform(-10, 10)*(-0.5) - 1)\n",
        "    i += 1\n",
        "  return x_n, y_n_green, y_n_red\n",
        "\n",
        "#samples = (x_n, random_f(m, x_n, b))\n",
        "axes = randomSet(20, x)\n",
        "\n",
        "#print(samples)\n",
        "plt.subplot(131)\n",
        "plt.plot(x, target_f, 'ko')\n",
        "\n",
        "plt.subplot(132)\n",
        "plt.plot(axes[0], axes[1], 'ro')\n",
        "\n",
        "plt.subplot(133)\n",
        "plt.plot(axes[0], axes[2], 'go' )\n",
        "#, np.asarray(randomSet(20, x)[0]), np.asarray(randomSet(20, x)[1]), 'ro')\n",
        "\n",
        "#, np.asarray(randomSet(20, x)[0]), np.asarray(randomSet(20, x)[2]), 'go' )\n",
        "\n",
        "print(x_n)"
      ],
      "execution_count": null,
      "outputs": []
    },
    {
      "cell_type": "markdown",
      "metadata": {
        "id": "dwpR_kjL5yYp"
      },
      "source": [
        "**Problem 1.6** Consider a sample of 10 marbles drawn independtly from a bin that holds red and green marbles. The probability of a red marble is $\\mu$. For $\\mu = 0.05, \\mu = 0.5,$ and $\\mu = 0.8$, compute the probability of getting no red marbles ($\\nu = 0$) in the following cases:\n",
        "\n",
        "(a). We draw only one such a sample. Compute the probability that  $\\nu = 0$.\n",
        "\n",
        "(b). We draw $1000$ independent samples. Compute the probability that (at least) one of the samples has $\\nu = 0$.\n",
        "\n",
        "(c). Repeat (b) for $1000000$ independent samples."
      ]
    },
    {
      "cell_type": "markdown",
      "metadata": {
        "id": "ucyMoj5a1d33"
      },
      "source": [
        "**Solution:** Notice that $1 - \\mu$ is the probability that the event \"no red\" occurs. For the independence of the drawing a bin, we get that $Pr(\\nu = 0) = (1 - \\mu)^{10}$ for each sample of 10 bins. \n",
        "Therefore we get as follows:\n",
        "\n",
        "(a)."
      ]
    },
    {
      "cell_type": "code",
      "metadata": {
        "colab": {
          "base_uri": "https://localhost:8080/"
        },
        "id": "EVbNmZq-Wms1",
        "outputId": "62a1b5ad-ced9-4b17-db84-120aabe81881"
      },
      "source": [
        "#Draw only one sample:\n",
        "\n",
        "print(\"Probability of v=0 with mu = 0.05 =\" , 0.95**10)\n",
        "print(\"Probability of v=0 with mu = 0.5 =\", 0.5**10)\n",
        "print(\"Probability of v=0 with mu = 0.8 =\", 0.2**10)"
      ],
      "execution_count": 1,
      "outputs": [
        {
          "output_type": "stream",
          "text": [
            "Probability of v=0 with mu = 0.05 = 0.5987369392383787\n",
            "Probability of v=0 with mu = 0.5 = 0.0009765625\n",
            "Probability of v=0 with mu = 0.8 = 1.0240000000000006e-07\n"
          ],
          "name": "stdout"
        }
      ]
    },
    {
      "cell_type": "markdown",
      "metadata": {
        "id": "v896qwzk3LlI"
      },
      "source": [
        "(b). For this consider the event when none sample is $\\nu = 0$. That is when $\\nu > 0$ or, \n",
        "\n",
        "\\begin{equation}\n",
        "  Pr(\\nu > 0) = 1 - Pr(\\nu = 0) = 1 - (1 - \\mu)^{10}\n",
        "\\end{equation}\n",
        "\n",
        "As we have independence when we choose the marbles' samples, then for $1000$ drwas\n",
        "\n",
        "\\begin{align*}\n",
        "  \\prod_{i = 1}^{1000} Pr(\\nu_{i} > 0) &= \\prod_{i = 1}^{1000} 1 - Pr(\\nu_{i} = 0) \\\\ \n",
        "                                  &=  \\prod_{i = 1}^{1000} 1 - (1 - \\mu)^{10} \\\\\n",
        "                                  &= (1 - (1 - \\mu)^{10})^{1000}\n",
        "\\end{align*}\n",
        "\n",
        "Taking the complement of the last expression we get the desire probability. We show the compute when we make $1000$ draws samples."
      ]
    },
    {
      "cell_type": "code",
      "metadata": {
        "colab": {
          "base_uri": "https://localhost:8080/"
        },
        "id": "DenAT4FL2wrk",
        "outputId": "4f94162c-e262-42d6-e14c-c46e05602f9b"
      },
      "source": [
        "#We define a function with the compute made before when we make 1000 draws\n",
        "#to pick the samples' bins\n",
        "def binExperiment(mu, n):\n",
        "  return 1 - ((1 - (1-mu)**10)**n)\n",
        "\n",
        "print(\"When mu = 0.05, the probability is \", binExperiment(0.05, 1000))\n",
        "print(\"When mu = 0.5, the probability is \", binExperiment(0.5, 1000))\n",
        "print(\"When mu = 0.8, the probability is \", binExperiment(0.8, 1000))\n"
      ],
      "execution_count": 3,
      "outputs": [
        {
          "output_type": "stream",
          "text": [
            "When mu = 0.05, the probability is  1.0\n",
            "When mu = 0.5, the probability is  0.623576201943276\n",
            "When mu = 0.8, the probability is  0.00010239476257623004\n"
          ],
          "name": "stdout"
        }
      ]
    },
    {
      "cell_type": "markdown",
      "metadata": {
        "id": "qAyL0LhO66eV"
      },
      "source": [
        "(c). We repeat the last case, but with $1000000$ independent samples."
      ]
    },
    {
      "cell_type": "code",
      "metadata": {
        "colab": {
          "base_uri": "https://localhost:8080/"
        },
        "id": "ezTXU8nR65rp",
        "outputId": "3ed5edbb-c4ac-439e-ec95-b0fe9f9e5fb6"
      },
      "source": [
        "#We define a function with the compute made before when we make 1000000 draws\n",
        "#to pick the samples' bins\n",
        "def binExperiment(mu, n):\n",
        "  return 1 - ((1 - (1-mu)**10)**n)\n",
        "\n",
        "print(\"When mu = 0.05, the probability is \", binExperiment(0.05, 10000000))\n",
        "print(\"When mu = 0.5, the probability is \", binExperiment(0.5, 1000000))\n",
        "print(\"When mu = 0.8, the probability is \", binExperiment(0.8, 1000000))\n"
      ],
      "execution_count": 4,
      "outputs": [
        {
          "output_type": "stream",
          "text": [
            "When mu = 0.05, the probability is  1.0\n",
            "When mu = 0.5, the probability is  1.0\n",
            "When mu = 0.8, the probability is  0.09733159268316072\n"
          ],
          "name": "stdout"
        }
      ]
    },
    {
      "cell_type": "markdown",
      "metadata": {
        "id": "gqXsSpoQWv_m"
      },
      "source": [
        "**Problem 1.9** In this problem, we derive a form of the law of larger numbers that has an exponential bound, called the *Chernoff bound*. We focus on the simple case of flipping a fair coin, and use an approach similar to problem 1.8.\n",
        "\n",
        "(a). Let $t$ be a finite random variable, $\\alpha$ be a positive constant, and $s$ be a positive parameter. If $T(s) = \\mathbb{E}_{t}(e^{st})$ prove that \n",
        "\n",
        "\\begin{equation}\n",
        "  P[t \\geq \\alpha] \\leq e^{-s \\alpha}T(s)\n",
        "\\end{equation}\n",
        "\n",
        "(b). Let $u_{1}, u_{2}, ..., u_{N}$ be iid random variables, and let $u = \\sum_{i=1}^{N} u_{n}$. If $U(s) = \\mathbb{E}_{u_{n}} (e^{s u_{n}})$ for any n, prove that \n",
        "\n",
        "\\begin{equation}\n",
        "  P[u \\geq \\alpha] \\leq (e^{-s \\alpha}U(s))^{N}\n",
        "\\end{equation}\n",
        "\n",
        "(c). Suppose $P[u_{n} = 0] = P[u_{n} = 1] = \\frac{1}{2}$ (fair coin). Evaluate $U(s)$ as a function of $s$, and minimize $e^{-s \\alpha} U(s)$ with respect to $s$ for fixed $\\alpha$, $0 < \\alpha < 1$.\n",
        "\n",
        "(d) Conclude in (c) that, for $0 < \\frac{\\epsilon}{2} < 1$,\n",
        "\n",
        "\\begin{equation}\n",
        "  P[u \\geq \\mathbb{E}(u) + \\epsilon] \\leq 2^{-\\beta N}\n",
        "\\end{equation}\n",
        "\n",
        "where $\\beta = 1 + (\\frac{1}{2} + \\epsilon)log_{2}(\\frac{1}{2} + \\epsilon) + (\\frac{1}{2} - \\epsilon)log_{2}(\\frac{1}{2} - \\epsilon)$ and $\\mathbb{E}(u) = \\frac{1}{2}$. Show that $\\beta > 0$, hence the bound is exponentially decreasing in $N$."
      ]
    },
    {
      "cell_type": "markdown",
      "metadata": {
        "id": "4BgaB5Ycbb2u"
      },
      "source": [
        "**Solution:**\n",
        "\n",
        "(a). We get that for Markov's inequality $P[X \\geq \\alpha] \\leq \\frac{\\mathbb{E}(X)}{a}$ with $a \\in \\mathbb{R}$. Thus we can apply this inequality to \n",
        "\n",
        "\\begin{equation}\n",
        "  P[t \\geq \\alpha] = P[e^{st} \\geq e^{s \\alpha}] \\leq \\frac{\\mathbb{E}(e^{st})}{e^{s \\alpha}}\n",
        "\\end{equation}\n",
        "\n",
        "that is what we want to prove.\n",
        "\n",
        "(b). Using the last assertion and applying it to $P[Nu \\geq N \\alpha]$, with an analogous argument we get that \n",
        "\n",
        "\\begin{align*}\n",
        "  P[Nu \\geq N \\alpha] &= P[e^{sNu} \\geq e^{sN\\alpha}] \\\\\n",
        "  P[u \\geq  \\alpha]   & \\leq e^{-sN\\alpha} \\mathbb{E}(e^{sNu}) \\\\\n",
        "                      & \\leq e^{-sN\\alpha} \\mathbb{E}(e^{s \\sum_{n=1}^{N} u_{n}}) \\\\\n",
        "                      & \\leq e^{-sN\\alpha} \\mathbb{E}(\\prod_{n=1}^{N} e^{s u_{n}}) \\\\\n",
        "                      & \\leq e^{-sN\\alpha} \\prod_{n=1}^{N} \\mathbb{E} (e^{s u_{n}}) \\\\\n",
        "\\end{align*}\n",
        "\n",
        "As for $n = 1, ..., N$, $u_{n}$ are iid, we get that \n",
        "\n",
        "\\begin{align*}\n",
        "  P[u \\geq  \\alpha] & \\leq e^{-sN\\alpha} [\\mathbb{E} (e^{s u_{n}})]^{N} \\\\\n",
        "                    & \\leq [e^{-s\\alpha} \\mathbb{E} (e^{s u_{n}})] ^{N}\n",
        "\\end{align*}\n",
        "\n",
        "finishing the prove.\n",
        "\n",
        "(c). We get that for definition of the expectancie and its properties, \n",
        "\n",
        "$U(s) = \\mathbb{E}_{u_{n}}(e^{su_{n}}) = P[u_{n} = 0]e^{0} + P[u_{n} = 1] = \\frac{1}{2}(1 + e^{s})$.\n",
        "\n",
        "To minimize the last expression with respect to s, lets derivate \n",
        "\n",
        "\\begin{equation}\n",
        "  G(s) = e^{-s \\alpha} \\frac{1}{2} (1 + e^{s}) = \\frac{1}{2}(e^{-s \\alpha} + e^{s(1 - \\alpha)})\n",
        "\\end{equation}\n",
        "\n",
        "with respect to s and find its minimum point.\n",
        "\n",
        "\\begin{equation}\n",
        "  \\frac{dG(s)}{ds} = \\frac{-\\alpha}{2} e^{-s \\alpha} + \\frac{1 -\\alpha}{2} e^{s(1 - \\alpha)} = 0\n",
        "\\end{equation}\n",
        "\n",
        "Then,\n",
        "\n",
        "\\begin{align*}\n",
        "  (1 - \\alpha) e^{s(1 - \\alpha)} &= \\alpha e^{-s \\alpha} \\\\\n",
        "  e^{s(1 - \\alpha)} e^{-s \\alpha} &= \\frac{\\alpha}{1 - \\alpha} \\\\\n",
        "  e^{s} &= \\frac{\\alpha}{1 - \\alpha} \\\\\n",
        "  s &= ln(\\frac{\\alpha}{1 - \\alpha}) > 0\n",
        "\\end{align*}\n",
        "\n",
        "since $0 < \\alpha < 1$. Therefore this value is a minimum for $G(s)$.\n"
      ]
    }
  ]
}